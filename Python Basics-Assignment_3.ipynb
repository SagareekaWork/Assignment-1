{
 "cells": [
  {
   "cell_type": "markdown",
   "id": "b948c08c",
   "metadata": {},
   "source": [
    "q1. Why are functions advantageous to have in your programs?\n",
    "\n",
    "Ans. Functions reduce the need for duplicate code. This makes programs shorter, easier to read, and easier to update.\n"
   ]
  },
  {
   "cell_type": "markdown",
   "id": "3331ea89",
   "metadata": {},
   "source": [
    "Q2. When does the code in a function execute: when the function is defined or when the function is called?\n",
    "    \n",
    "Ans.The code in a function executes when the function is called, not when the function is defined.\n"
   ]
  },
  {
   "cell_type": "markdown",
   "id": "8ec720cc",
   "metadata": {},
   "source": [
    "Q3. What statement creates a function?\n",
    "\n",
    "Ans.The \"def\" statement defines, i.e., creates a function.\n"
   ]
  },
  {
   "cell_type": "markdown",
   "id": "45695bdb",
   "metadata": {},
   "source": [
    "Q4. What is the difference between a function and a function call?\n",
    "\n",
    "Ans. A function consists of the def statement and the code in its def clause.\n",
    "A function call is what moves the program execution into the function, and the function call evaluates the function's return value.\n"
   ]
  },
  {
   "cell_type": "markdown",
   "id": "7c69d0da",
   "metadata": {},
   "source": [
    "Q5. How many global scopes are there in a Python program? How many local scopes?\n",
    "\n",
    "Ans.There is one global scope. A local scope is created whenever a function is called.\n"
   ]
  },
  {
   "cell_type": "markdown",
   "id": "299d35d2",
   "metadata": {},
   "source": [
    "Q6. What happens to variables in a local scope when the function call returns?\n",
    "\n",
    "Ans. When a function returns, the local scope is destroyed, and all the variables in it are forgotten.\n"
   ]
  },
  {
   "cell_type": "markdown",
   "id": "4f894d8f",
   "metadata": {},
   "source": [
    "Q7. What is a return value? Can a return value be part of an expression?\n",
    "\n",
    "Ans. A return value is the value that a function call evaluates to. \n",
    "Like any othercvalue, a return value can be used as part of an expression.\n"
   ]
  },
  {
   "cell_type": "markdown",
   "id": "45884a25",
   "metadata": {},
   "source": [
    "Q8. If a function does not have a return statement, what is the return value of a call to that function?\n",
    "\n",
    "Ans. If there is no return statement for a function, its return value is None.\n"
   ]
  },
  {
   "cell_type": "markdown",
   "id": "66b137ff",
   "metadata": {},
   "source": [
    "Q9.How do you make a function variable refer to the global variable?\n",
    "\n",
    "Ans. Variables that are created outside a function are known as global variables. Global variables can be used both inside and outside the function.\n",
    "To create a global variable inside a function, we can use the keyword \"global\" before the variable.\n",
    "For example-"
   ]
  },
  {
   "cell_type": "code",
   "execution_count": 4,
   "id": "9ffc1e00",
   "metadata": {},
   "outputs": [],
   "source": [
    "s=\"alphabets\"\n",
    "def func1():\n",
    "    print(s,\" and numbers\")\n",
    "def func2():\n",
    "    global x\n",
    "    x= \"sentences\"\n",
    "    "
   ]
  },
  {
   "cell_type": "code",
   "execution_count": 6,
   "id": "2f5a2f20",
   "metadata": {},
   "outputs": [
    {
     "name": "stdout",
     "output_type": "stream",
     "text": [
      "sentencesalphabets\n"
     ]
    }
   ],
   "source": [
    "func2()\n",
    "print(x+s)"
   ]
  },
  {
   "cell_type": "markdown",
   "id": "9b92df0e",
   "metadata": {},
   "source": [
    "Q10. What is the data type of None?\n",
    "\n",
    "Ans.The data type of None is NoneType.\n"
   ]
  },
  {
   "cell_type": "markdown",
   "id": "11176e82",
   "metadata": {},
   "source": [
    "Q11. What does the import areallyourpetsnamederic statement do?\n",
    "\n",
    "Ans. The import statement imports a module named areallyourpetsnamederic.\n"
   ]
  },
  {
   "cell_type": "markdown",
   "id": "fd947806",
   "metadata": {},
   "source": [
    "Q12. If you had a function named bacon() in a module named spam, how would you call it after importing spam?\n",
    "\n",
    "Ans.The function can be called by using-\n",
    "spam.bacon()\n"
   ]
  },
  {
   "cell_type": "markdown",
   "id": "586337fc",
   "metadata": {},
   "source": [
    "Q13. How can you prevent a program from crashing when it gets an error?\n",
    "\n",
    "Ans.We can place the line of code that might cause an error in a try clause.\n"
   ]
  },
  {
   "cell_type": "markdown",
   "id": "fdad5b3e",
   "metadata": {},
   "source": [
    "Q14. What goes in the try clause? What goes in the except clause?\n",
    "\n",
    "Ans. The code that could potentially cause an error goes is written in the \"try\" clause.\n",
    "The code that executes if an error happens goes in the \"except\" clause."
   ]
  }
 ],
 "metadata": {
  "kernelspec": {
   "display_name": "Python 3 (ipykernel)",
   "language": "python",
   "name": "python3"
  },
  "language_info": {
   "codemirror_mode": {
    "name": "ipython",
    "version": 3
   },
   "file_extension": ".py",
   "mimetype": "text/x-python",
   "name": "python",
   "nbconvert_exporter": "python",
   "pygments_lexer": "ipython3",
   "version": "3.9.7"
  }
 },
 "nbformat": 4,
 "nbformat_minor": 5
}
