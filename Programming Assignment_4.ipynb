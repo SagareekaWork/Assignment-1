{
 "cells": [
  {
   "cell_type": "code",
   "execution_count": 4,
   "id": "1c615661",
   "metadata": {},
   "outputs": [],
   "source": [
    "#1. Write a Python Program to Find the Factorial of a Number?\n",
    "\n",
    "def factorial():\n",
    "    num=int(input(\"Enter a number \"))\n",
    "    print()\n",
    "    i=1\n",
    "    fact=1\n",
    "    for i in range(1,num+1,1):\n",
    "        fact=fact*i\n",
    "        i+=1\n",
    "    print(\"Factorial of \", num, \" is \",fact)"
   ]
  },
  {
   "cell_type": "code",
   "execution_count": 5,
   "id": "74fd20c2",
   "metadata": {},
   "outputs": [
    {
     "name": "stdout",
     "output_type": "stream",
     "text": [
      "Enter a number 6\n",
      "\n",
      "Factorial of  6  is  720\n"
     ]
    }
   ],
   "source": [
    "factorial()"
   ]
  },
  {
   "cell_type": "code",
   "execution_count": 6,
   "id": "d950112e",
   "metadata": {},
   "outputs": [
    {
     "name": "stdout",
     "output_type": "stream",
     "text": [
      "Enter a number 9\n",
      "\n",
      "Factorial of  9  is  362880\n"
     ]
    }
   ],
   "source": [
    "factorial()"
   ]
  },
  {
   "cell_type": "code",
   "execution_count": 11,
   "id": "32fc0bb5",
   "metadata": {},
   "outputs": [],
   "source": [
    "#2. Write a Python Program to Display the multiplication Table?\n",
    "\n",
    "def mul_tab():\n",
    "    num=int(input(\"Enter a number\"))\n",
    "    print()\n",
    "    i=1\n",
    "    while i<11:\n",
    "        print(num,\"x\",i,\" = \",num*i)\n",
    "        i+=1"
   ]
  },
  {
   "cell_type": "code",
   "execution_count": 12,
   "id": "b70a1f74",
   "metadata": {},
   "outputs": [
    {
     "name": "stdout",
     "output_type": "stream",
     "text": [
      "Enter a number23\n",
      "\n",
      "23 x 1  =  23\n",
      "23 x 2  =  46\n",
      "23 x 3  =  69\n",
      "23 x 4  =  92\n",
      "23 x 5  =  115\n",
      "23 x 6  =  138\n",
      "23 x 7  =  161\n",
      "23 x 8  =  184\n",
      "23 x 9  =  207\n",
      "23 x 10  =  230\n"
     ]
    }
   ],
   "source": [
    "mul_tab()"
   ]
  },
  {
   "cell_type": "code",
   "execution_count": 13,
   "id": "a2fed20a",
   "metadata": {},
   "outputs": [
    {
     "name": "stdout",
     "output_type": "stream",
     "text": [
      "Enter a number17\n",
      "\n",
      "17 x 1  =  17\n",
      "17 x 2  =  34\n",
      "17 x 3  =  51\n",
      "17 x 4  =  68\n",
      "17 x 5  =  85\n",
      "17 x 6  =  102\n",
      "17 x 7  =  119\n",
      "17 x 8  =  136\n",
      "17 x 9  =  153\n",
      "17 x 10  =  170\n"
     ]
    }
   ],
   "source": [
    "mul_tab()"
   ]
  },
  {
   "cell_type": "code",
   "execution_count": 31,
   "id": "3aff1e38",
   "metadata": {},
   "outputs": [],
   "source": [
    "# 3. Write a Python Program to Print the Fibonacci sequence?\n",
    "\n",
    "def fibo():\n",
    "    n=int(input(\"Enter no of elements required in fibonacci series \"))\n",
    "    print()\n",
    "    if n==1:\n",
    "        print(0)\n",
    "    if n==2:\n",
    "        print(0,1)\n",
    "    if n>2:\n",
    "        print(0,1, end=\" \")\n",
    "        a=0;b=1;sum=0;count=2\n",
    "        while count<n:\n",
    "            sum=a+b\n",
    "            a=b\n",
    "            b=sum\n",
    "            count+=1\n",
    "            print(sum,end=\" \")"
   ]
  },
  {
   "cell_type": "code",
   "execution_count": 33,
   "id": "8a1596cb",
   "metadata": {},
   "outputs": [
    {
     "name": "stdout",
     "output_type": "stream",
     "text": [
      "Enter no of elements required in fibonacci series 9\n",
      "\n",
      "0 1 1 2 3 5 8 13 21 "
     ]
    }
   ],
   "source": [
    "fibo()"
   ]
  },
  {
   "cell_type": "code",
   "execution_count": 34,
   "id": "d02728e8",
   "metadata": {},
   "outputs": [
    {
     "name": "stdout",
     "output_type": "stream",
     "text": [
      "Enter no of elements required in fibonacci series 15\n",
      "\n",
      "0 1 1 2 3 5 8 13 21 34 55 89 144 233 377 "
     ]
    }
   ],
   "source": [
    "fibo()"
   ]
  },
  {
   "cell_type": "code",
   "execution_count": 55,
   "id": "26db750b",
   "metadata": {},
   "outputs": [],
   "source": [
    "#4. Write a Python Program to Check Armstrong Number?\n",
    "\n",
    "def armst():\n",
    "    \n",
    "    num=int(input(\"Enter a number \"))\n",
    "    print()\n",
    "    copy=num\n",
    "    s=0\n",
    "    while copy>0:\n",
    "        d=copy%10\n",
    "        s=s+d**3\n",
    "        copy//=10\n",
    "        \n",
    "    if s==num:\n",
    "        print(num,\" is an armstrong number\")\n",
    "    else:\n",
    "        print(num,\" is not an armstrong number\")"
   ]
  },
  {
   "cell_type": "code",
   "execution_count": 56,
   "id": "82d86fcd",
   "metadata": {},
   "outputs": [
    {
     "name": "stdout",
     "output_type": "stream",
     "text": [
      "Enter a number 153\n",
      "\n",
      "153  is an armstrong number\n"
     ]
    }
   ],
   "source": [
    "armst()"
   ]
  },
  {
   "cell_type": "code",
   "execution_count": 57,
   "id": "6b5debc9",
   "metadata": {},
   "outputs": [
    {
     "name": "stdout",
     "output_type": "stream",
     "text": [
      "Enter a number 236\n",
      "\n",
      "236  is not an armstrong number\n"
     ]
    }
   ],
   "source": [
    "armst()"
   ]
  },
  {
   "cell_type": "code",
   "execution_count": 65,
   "id": "1ebff341",
   "metadata": {},
   "outputs": [],
   "source": [
    "#5. Write a Python Program to Find Armstrong Number in an Interval?\n",
    "\n",
    "def arm_range():\n",
    "    n1=int(input(\"Enter lower limit of range \"))\n",
    "    print()\n",
    "    n2=int(input(\"Enter upper limit of range \"))\n",
    "    print()\n",
    "    for i in range(n1,n2,1):\n",
    "        copy=i\n",
    "        s=0\n",
    "        while copy>0:\n",
    "            d=copy%10\n",
    "            s=s+d**3\n",
    "            copy//=10\n",
    "        \n",
    "        if s==i:\n",
    "            print(i)\n",
    "        else:\n",
    "            pass"
   ]
  },
  {
   "cell_type": "code",
   "execution_count": 67,
   "id": "659722d2",
   "metadata": {},
   "outputs": [
    {
     "name": "stdout",
     "output_type": "stream",
     "text": [
      "Enter lower limit of range 50\n",
      "\n",
      "Enter upper limit of range 200\n",
      "\n",
      "153\n"
     ]
    }
   ],
   "source": [
    "arm_range()"
   ]
  },
  {
   "cell_type": "code",
   "execution_count": 68,
   "id": "f3adcb59",
   "metadata": {},
   "outputs": [
    {
     "name": "stdout",
     "output_type": "stream",
     "text": [
      "Enter lower limit of range 100\n",
      "\n",
      "Enter upper limit of range 1000\n",
      "\n",
      "153\n",
      "370\n",
      "371\n",
      "407\n"
     ]
    }
   ],
   "source": [
    "arm_range()"
   ]
  },
  {
   "cell_type": "code",
   "execution_count": 70,
   "id": "6128b558",
   "metadata": {},
   "outputs": [],
   "source": [
    "# 6. Write a Python Program to Find the Sum of Natural Numbers?\n",
    "def nat_sum():\n",
    "    num=int(input(\"Enter the limit of the sum of natural numbers\"))\n",
    "    print()\n",
    "    s=0\n",
    "    for i in range(1,num,1):\n",
    "        s=s+i\n",
    "    print(\"Sum of the natural numbers up till \", num, \" is \",s)"
   ]
  },
  {
   "cell_type": "code",
   "execution_count": 71,
   "id": "9a662d83",
   "metadata": {},
   "outputs": [
    {
     "name": "stdout",
     "output_type": "stream",
     "text": [
      "Enter the limit of the sum of natural numbers10\n",
      "\n",
      "Sum of the natural numbers up till  10  is  45\n"
     ]
    }
   ],
   "source": [
    "nat_sum()"
   ]
  },
  {
   "cell_type": "code",
   "execution_count": 72,
   "id": "784c770c",
   "metadata": {},
   "outputs": [
    {
     "name": "stdout",
     "output_type": "stream",
     "text": [
      "Enter the limit of the sum of natural numbers25\n",
      "\n",
      "Sum of the natural numbers up till  25  is  300\n"
     ]
    }
   ],
   "source": [
    "nat_sum()"
   ]
  },
  {
   "cell_type": "code",
   "execution_count": null,
   "id": "1da646a1",
   "metadata": {},
   "outputs": [],
   "source": []
  }
 ],
 "metadata": {
  "kernelspec": {
   "display_name": "Python 3 (ipykernel)",
   "language": "python",
   "name": "python3"
  },
  "language_info": {
   "codemirror_mode": {
    "name": "ipython",
    "version": 3
   },
   "file_extension": ".py",
   "mimetype": "text/x-python",
   "name": "python",
   "nbconvert_exporter": "python",
   "pygments_lexer": "ipython3",
   "version": "3.9.7"
  }
 },
 "nbformat": 4,
 "nbformat_minor": 5
}
