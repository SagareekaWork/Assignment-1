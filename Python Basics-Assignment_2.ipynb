{
 "cells": [
  {
   "cell_type": "markdown",
   "id": "b3161c67",
   "metadata": {},
   "source": [
    "1.What are the two values of the Boolean data type? How do you write them?\n",
    "\n",
    "Ans. \n",
    "There are two boolean values and they are written as-\n",
    "True and False"
   ]
  },
  {
   "cell_type": "markdown",
   "id": "e1ca0a0b",
   "metadata": {},
   "source": [
    "Q2. What are the three different types of Boolean operators?\n",
    "\n",
    "Ans. \n",
    "AND, OR, NOT"
   ]
  },
  {
   "cell_type": "code",
   "execution_count": null,
   "id": "a427bd8f",
   "metadata": {},
   "outputs": [],
   "source": [
    "Q3. Make a list of each Boolean operators truth tables (i.e. every possible combination of Boolean\n",
    "values for the operator and what it evaluate ).\n",
    "\n",
    "AND\n",
    "\n",
    "INPUT   OUTPUT\n",
    "A  B\n",
    "0  0      0\n",
    "0  1      0\n",
    "1  0      0\n",
    "1  1      1\n",
    "\n",
    "0R \n",
    "\n",
    "INPUT   OUTPUT\n",
    "A   B\n",
    "0   0     0\n",
    "0   1     1\n",
    "1   0     1\n",
    "1   1     1\n",
    "\n",
    "NOT\n",
    "\n",
    "INPUT    OUTPUT\n",
    "  A\n",
    "  0        1\n",
    "  1        0"
   ]
  },
  {
   "cell_type": "code",
   "execution_count": null,
   "id": "328366a3",
   "metadata": {},
   "outputs": [],
   "source": [
    "4. What are the values of the following expressions?\n",
    "(5 > 4) and (3 == 5)                 - False\n",
    "not (5 > 4)                          - False\n",
    "(5 > 4) or (3 == 5)                  - True\n",
    "not ((5 > 4) or (3 == 5))            - False\n",
    "(True and True) and (True == False)  - False\n",
    "(not False) or (not True)            - True          "
   ]
  },
  {
   "cell_type": "code",
   "execution_count": 14,
   "id": "df9951b6",
   "metadata": {},
   "outputs": [
    {
     "data": {
      "text/plain": [
       "False"
      ]
     },
     "execution_count": 14,
     "metadata": {},
     "output_type": "execute_result"
    }
   ],
   "source": [
    "(5 > 4) and (3 == 5)"
   ]
  },
  {
   "cell_type": "code",
   "execution_count": 15,
   "id": "cca833b8",
   "metadata": {},
   "outputs": [
    {
     "data": {
      "text/plain": [
       "False"
      ]
     },
     "execution_count": 15,
     "metadata": {},
     "output_type": "execute_result"
    }
   ],
   "source": [
    "not (5 > 4)"
   ]
  },
  {
   "cell_type": "code",
   "execution_count": 16,
   "id": "59c2933a",
   "metadata": {},
   "outputs": [
    {
     "data": {
      "text/plain": [
       "True"
      ]
     },
     "execution_count": 16,
     "metadata": {},
     "output_type": "execute_result"
    }
   ],
   "source": [
    "(5 > 4) or (3 == 5)"
   ]
  },
  {
   "cell_type": "code",
   "execution_count": 17,
   "id": "6018813f",
   "metadata": {},
   "outputs": [
    {
     "data": {
      "text/plain": [
       "False"
      ]
     },
     "execution_count": 17,
     "metadata": {},
     "output_type": "execute_result"
    }
   ],
   "source": [
    "not ((5 > 4) or (3 == 5))"
   ]
  },
  {
   "cell_type": "code",
   "execution_count": 19,
   "id": "89f619ee",
   "metadata": {},
   "outputs": [
    {
     "data": {
      "text/plain": [
       "False"
      ]
     },
     "execution_count": 19,
     "metadata": {},
     "output_type": "execute_result"
    }
   ],
   "source": [
    "(True and True) and (True == False)"
   ]
  },
  {
   "cell_type": "code",
   "execution_count": 18,
   "id": "992d9c6d",
   "metadata": {},
   "outputs": [
    {
     "data": {
      "text/plain": [
       "True"
      ]
     },
     "execution_count": 18,
     "metadata": {},
     "output_type": "execute_result"
    }
   ],
   "source": [
    "(not False) or (not True)"
   ]
  },
  {
   "cell_type": "markdown",
   "id": "e5b7bb40",
   "metadata": {},
   "source": [
    "5. What are the six comparison operators?\n",
    "\n",
    "greater than (>),lesser than(<),greater than equal to(>=), lesser than equal to (<=), equal to(==),not equal to(!=)"
   ]
  },
  {
   "cell_type": "code",
   "execution_count": null,
   "id": "3ae1f1b8",
   "metadata": {},
   "outputs": [],
   "source": [
    "6. How do you tell the difference between the equal to and assignment operators?Describe a condition and when you would use one.\n",
    "\n",
    "Assignment operator is symbolized by '='\n",
    "To check equality of two variables or numbers, we use '=='\n",
    "\n",
    "for example the code for printing even nos from 1 to 10 is given below-\n"
   ]
  },
  {
   "cell_type": "code",
   "execution_count": 22,
   "id": "7d417f41",
   "metadata": {},
   "outputs": [
    {
     "name": "stdout",
     "output_type": "stream",
     "text": [
      "2\n",
      "4\n",
      "6\n",
      "8\n",
      "10\n"
     ]
    }
   ],
   "source": [
    "i=1              #value assignment to loop variable i\n",
    "while i<=10:\n",
    "    if i%2==0:    #checking if remainder is equal to 0\n",
    "        print(i)\n",
    "    i+=1"
   ]
  },
  {
   "cell_type": "markdown",
   "id": "073cd055",
   "metadata": {},
   "source": [
    "Q7. Identify the three blocks in this code:\n",
    "\n",
    "spam = 0\n",
    "if spam == 10:\n",
    "print('eggs')\n",
    "if spam> 5:\n",
    "print('bacon')\n",
    "else:\n",
    "print('ham')\n",
    "print('spam')\n",
    "print('spam')"
   ]
  },
  {
   "cell_type": "code",
   "execution_count": 26,
   "id": "55f54f91",
   "metadata": {},
   "outputs": [
    {
     "name": "stdout",
     "output_type": "stream",
     "text": [
      "ham\n",
      "spam\n",
      "spam\n"
     ]
    }
   ],
   "source": [
    "spam=0\n",
    "if spam== 10:               #block1\n",
    "    print('eggs')\n",
    "if spam>5 :                 #block2\n",
    "        print('bacon')\n",
    "else:                       #block3\n",
    "    print ('ham')\n",
    "    print('spam')\n",
    "    print('spam')"
   ]
  },
  {
   "cell_type": "markdown",
   "id": "f734af33",
   "metadata": {},
   "source": [
    "Q8. Write code that prints Hello if 1 is stored in spam, prints Howdy if 2 is stored in spam, and prints\n",
    "Greetings! if anything else is stored in spam."
   ]
  },
  {
   "cell_type": "code",
   "execution_count": 23,
   "id": "d8411aef",
   "metadata": {},
   "outputs": [
    {
     "name": "stdout",
     "output_type": "stream",
     "text": [
      "Enter value 32\n",
      "Greetings!\n"
     ]
    }
   ],
   "source": [
    "spam= int(input(\"Enter value \"))\n",
    "if spam==1:\n",
    "    print('Hello')\n",
    "elif spam == 2:\n",
    "        print('Howdy')\n",
    "else:\n",
    "        print(\"Greetings!\")\n",
    "    "
   ]
  },
  {
   "cell_type": "markdown",
   "id": "4eb40a0f",
   "metadata": {},
   "source": [
    "9.If your programme is stuck in an endless loop, what keys you’ll press?\n",
    "\n",
    "Ans.\n",
    "CTRL+C"
   ]
  },
  {
   "cell_type": "markdown",
   "id": "95acfd78",
   "metadata": {},
   "source": [
    "10. How can you tell the difference between break and continue?\n",
    "\n",
    "\n",
    "Ans.\n",
    "The main difference between both the statements is that when break keyword comes, it terminates the execution of the current loop and passes the control over the next loop or main body.\n",
    "When continue keyword is encountered, it skips the current iteration and executes the very next iteration in the loop."
   ]
  },
  {
   "cell_type": "markdown",
   "id": "4cb94c4b",
   "metadata": {},
   "source": [
    "11. In a for loop, what is the difference between range(10), range(0, 10), and range(0, 10, 1)?\n",
    "\n",
    "no difference."
   ]
  },
  {
   "cell_type": "code",
   "execution_count": 2,
   "id": "048905dd",
   "metadata": {},
   "outputs": [
    {
     "name": "stdout",
     "output_type": "stream",
     "text": [
      "0\n",
      "1\n",
      "2\n",
      "3\n",
      "4\n",
      "5\n",
      "6\n",
      "7\n",
      "8\n",
      "9\n"
     ]
    }
   ],
   "source": [
    "for i in range(10):\n",
    "    print (i)\n",
    "    "
   ]
  },
  {
   "cell_type": "code",
   "execution_count": 4,
   "id": "d539630a",
   "metadata": {
    "scrolled": false
   },
   "outputs": [
    {
     "name": "stdout",
     "output_type": "stream",
     "text": [
      "0\n",
      "1\n",
      "2\n",
      "3\n",
      "4\n",
      "5\n",
      "6\n",
      "7\n",
      "8\n",
      "9\n"
     ]
    }
   ],
   "source": [
    "for i in range(0,10):\n",
    "    print (i)"
   ]
  },
  {
   "cell_type": "code",
   "execution_count": 5,
   "id": "59bcbb7e",
   "metadata": {
    "scrolled": true
   },
   "outputs": [
    {
     "name": "stdout",
     "output_type": "stream",
     "text": [
      "0\n",
      "1\n",
      "2\n",
      "3\n",
      "4\n",
      "5\n",
      "6\n",
      "7\n",
      "8\n",
      "9\n"
     ]
    }
   ],
   "source": [
    "for i in range(0,10,1):\n",
    "    print (i)"
   ]
  },
  {
   "cell_type": "markdown",
   "id": "84285df9",
   "metadata": {},
   "source": [
    "12. Write a short program that prints the numbers 1 to 10 using a for loop. Then write an equivalent\n",
    "program that prints the numbers 1 to 10 using a while loop."
   ]
  },
  {
   "cell_type": "code",
   "execution_count": 9,
   "id": "4280079a",
   "metadata": {
    "scrolled": true
   },
   "outputs": [
    {
     "name": "stdout",
     "output_type": "stream",
     "text": [
      "1\n",
      "2\n",
      "3\n",
      "4\n",
      "5\n",
      "6\n",
      "7\n",
      "8\n",
      "9\n",
      "10\n"
     ]
    }
   ],
   "source": [
    "for i in range(1,11,1):\n",
    "    print (i)"
   ]
  },
  {
   "cell_type": "code",
   "execution_count": 12,
   "id": "b5591c42",
   "metadata": {
    "scrolled": true
   },
   "outputs": [
    {
     "name": "stdout",
     "output_type": "stream",
     "text": [
      "1\n",
      "2\n",
      "3\n",
      "4\n",
      "5\n",
      "6\n",
      "7\n",
      "8\n",
      "9\n",
      "10\n"
     ]
    }
   ],
   "source": [
    "j=1\n",
    "while j<=10:\n",
    "    print(j)\n",
    "    j+=1"
   ]
  },
  {
   "cell_type": "markdown",
   "id": "a86446e4",
   "metadata": {},
   "source": [
    "Q.13 If you had a function named bacon() inside a module named spam, how would you call it after\n",
    "#importing spam?\n",
    "\n",
    "import spam\n",
    "spam.bacon()"
   ]
  },
  {
   "cell_type": "code",
   "execution_count": null,
   "id": "b1a73fc9",
   "metadata": {},
   "outputs": [],
   "source": []
  }
 ],
 "metadata": {
  "kernelspec": {
   "display_name": "Python 3 (ipykernel)",
   "language": "python",
   "name": "python3"
  },
  "language_info": {
   "codemirror_mode": {
    "name": "ipython",
    "version": 3
   },
   "file_extension": ".py",
   "mimetype": "text/x-python",
   "name": "python",
   "nbconvert_exporter": "python",
   "pygments_lexer": "ipython3",
   "version": "3.9.7"
  }
 },
 "nbformat": 4,
 "nbformat_minor": 5
}
