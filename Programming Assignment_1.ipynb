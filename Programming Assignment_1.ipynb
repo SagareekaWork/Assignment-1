{
 "cells": [
  {
   "cell_type": "code",
   "execution_count": 1,
   "id": "769524a5",
   "metadata": {},
   "outputs": [
    {
     "name": "stdout",
     "output_type": "stream",
     "text": [
      "Hello Python\n"
     ]
    }
   ],
   "source": [
    "#1. Write a Python program to print \"Hello Python\"\n",
    "print(\"Hello Python\")"
   ]
  },
  {
   "cell_type": "code",
   "execution_count": 3,
   "id": "4fde4fa5",
   "metadata": {},
   "outputs": [
    {
     "name": "stdout",
     "output_type": "stream",
     "text": [
      "Result is:  11.0\n"
     ]
    }
   ],
   "source": [
    "# 2. Write a Python program to do arithmetical operations addition and division.?\n",
    "a=5\n",
    "b=10\n",
    "c=53\n",
    "\n",
    "r=(b/a+c)/a\n",
    "print(\"Result is: \", r)"
   ]
  },
  {
   "cell_type": "code",
   "execution_count": 10,
   "id": "9a8798fb",
   "metadata": {},
   "outputs": [],
   "source": [
    "#3. Write a Python program to find the area of a triangle?\n",
    "\n",
    "def area_Tri():\n",
    "    a=int(input(\"Enter 1st side of triangle-\"))\n",
    "    print()\n",
    "    b=int(input(\"Enter 2nd side of triangle-\"))\n",
    "    print()\n",
    "    c=int(input(\"Enter 3rd side of triangle-\"))\n",
    "    print()\n",
    "    s=(a+b+c)/2\n",
    "    import math\n",
    "    a=math.sqrt(s*(s-a)*(s-b)*(s-c))\n",
    "    print(\"The area is \",a,\" square units\")"
   ]
  },
  {
   "cell_type": "code",
   "execution_count": 11,
   "id": "5323190b",
   "metadata": {},
   "outputs": [
    {
     "name": "stdout",
     "output_type": "stream",
     "text": [
      "Enter 1st side of triangle-6\n",
      "\n",
      "Enter 2nd side of triangle-8\n",
      "\n",
      "Enter 3rd side of triangle-10\n",
      "\n",
      "The area is  24.0  square units\n"
     ]
    }
   ],
   "source": [
    "area_Tri()"
   ]
  },
  {
   "cell_type": "code",
   "execution_count": 15,
   "id": "c2a6ff5f",
   "metadata": {},
   "outputs": [],
   "source": [
    "#4. Write a Python program to swap two variables?\n",
    "\n",
    "def swap():\n",
    "    a=int(input(\"Enter integer A \"))\n",
    "    print()\n",
    "    b=int(input(\"Enter integer B \"))\n",
    "    print()\n",
    "    copy=a\n",
    "    a=b\n",
    "    b=copy\n",
    "    print(\"A=\",a,\";\",\"B=\",b)\n",
    "\n"
   ]
  },
  {
   "cell_type": "code",
   "execution_count": 16,
   "id": "6f925722",
   "metadata": {},
   "outputs": [
    {
     "name": "stdout",
     "output_type": "stream",
     "text": [
      "Enter integer A 43\n",
      "\n",
      "Enter integer B 98\n",
      "\n",
      "A= 98 ; B= 43\n"
     ]
    }
   ],
   "source": [
    "swap()"
   ]
  },
  {
   "cell_type": "code",
   "execution_count": 28,
   "id": "d15074bc",
   "metadata": {},
   "outputs": [],
   "source": [
    "#5. Write a Python program to generate a random number?\n",
    "\n",
    "def random_gen1():\n",
    "    import random  \n",
    "    n = random.random()  \n",
    "    print(n)  \n",
    "    \n",
    "def random_gen2():\n",
    "    import random  \n",
    "    n = random.randint(0,50)  \n",
    "    print(n) "
   ]
  },
  {
   "cell_type": "code",
   "execution_count": 29,
   "id": "ab7dbacf",
   "metadata": {},
   "outputs": [
    {
     "name": "stdout",
     "output_type": "stream",
     "text": [
      "0.10737237845171266\n"
     ]
    }
   ],
   "source": [
    "random_gen1()"
   ]
  },
  {
   "cell_type": "code",
   "execution_count": 30,
   "id": "72b9d11c",
   "metadata": {},
   "outputs": [
    {
     "name": "stdout",
     "output_type": "stream",
     "text": [
      "0.46770919778412456\n"
     ]
    }
   ],
   "source": [
    "random_gen1()"
   ]
  },
  {
   "cell_type": "code",
   "execution_count": 31,
   "id": "2432c84a",
   "metadata": {},
   "outputs": [
    {
     "name": "stdout",
     "output_type": "stream",
     "text": [
      "37\n"
     ]
    }
   ],
   "source": [
    "random_gen2()"
   ]
  },
  {
   "cell_type": "code",
   "execution_count": 32,
   "id": "97a6ccc2",
   "metadata": {},
   "outputs": [
    {
     "name": "stdout",
     "output_type": "stream",
     "text": [
      "3\n"
     ]
    }
   ],
   "source": [
    "random_gen2()"
   ]
  }
 ],
 "metadata": {
  "kernelspec": {
   "display_name": "Python 3 (ipykernel)",
   "language": "python",
   "name": "python3"
  },
  "language_info": {
   "codemirror_mode": {
    "name": "ipython",
    "version": 3
   },
   "file_extension": ".py",
   "mimetype": "text/x-python",
   "name": "python",
   "nbconvert_exporter": "python",
   "pygments_lexer": "ipython3",
   "version": "3.9.7"
  }
 },
 "nbformat": 4,
 "nbformat_minor": 5
}
