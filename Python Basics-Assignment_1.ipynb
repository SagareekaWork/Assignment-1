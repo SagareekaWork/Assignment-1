{
 "cells": [
  {
   "cell_type": "markdown",
   "id": "07459fe6",
   "metadata": {},
   "source": [
    "1. In the below elements which of them are values or an expression? eg:- values can be\n",
    "integer or string and expressions will be mathematical operators.\n",
    "*\n",
    "hello\n",
    "-87.8\n",
    "-\n",
    "/\n",
    "+\n",
    "6"
   ]
  },
  {
   "cell_type": "markdown",
   "id": "799aabef",
   "metadata": {},
   "source": [
    "*     --------- expression\n",
    "hello  -------- string value\n",
    "-87.8  -------- floating point value\n",
    "-      -------- expression\n",
    "/     --------- expression\n",
    "+    ---------- expression\n",
    "6    ---------- integer value"
   ]
  },
  {
   "cell_type": "markdown",
   "id": "a6059478",
   "metadata": {},
   "source": [
    "2. What is the difference between string and variable?\n",
    "\n",
    "Ans:\n",
    "String is a series of unicode characters. Strings can be created by enclosing characters in single or double quotes.\n",
    "for example-\n",
    "\"I am learning python programming\", \"apple is a fruit\", \"name\",etc.\n",
    "\n",
    "Variable is a symbolic name that is used for storing values. It is used as a reference or pointer to an object. Variables in python can be created by simply assigning values. For example-\n",
    "a=12, fl=2.345, st=\"vegetable\", etc.\n",
    "Here, a is a variable that stores an integer value, fl stores decimal or floating point value, variable st stores a string.\n"
   ]
  },
  {
   "cell_type": "markdown",
   "id": "16347b06",
   "metadata": {},
   "source": [
    "3. Describe three different data types.\n",
    "\n",
    "Ans:\n",
    "There are many data types in python. \n",
    "\n",
    "i) Numeric data types include integers (int), decimals( float)\n",
    "ii) Sequence data types include list and tuple which store an array of values\n",
    "iii) Boolean data types stores two values - True and False"
   ]
  },
  {
   "cell_type": "markdown",
   "id": "1ca0a2c6",
   "metadata": {},
   "source": [
    "4. What is an expression made up of? What do all expressions do?\n",
    "\n",
    "Ans:\n",
    "Expressions are made of variables, values and mathematical operators (operands).They are used to evaluate results of expressions on the screen.\n",
    "For example-\n",
    "\n",
    "a=2*5/10+234*(3/4*2)"
   ]
  },
  {
   "cell_type": "markdown",
   "id": "64837d68",
   "metadata": {},
   "source": [
    "5. This assignment statements, like spam = 10. What is the difference between anexpression and a statement?\n",
    "\n",
    "Ans:\n",
    "An expression is a sequence or combination of values, variables, operators and operands that always produces or returns a result value.\n",
    "Any instruction that a python interpreter can execute is called a Statement.\n",
    "The example below shows examples of an expression and a statement in programming-\n",
    "\n",
    "a=46,b=2                              #expression\n",
    "z=(a/b+2)* 4                          #mathematical expression\n",
    "\n",
    "print(\"The value is: \", z)            #statement"
   ]
  },
  {
   "cell_type": "markdown",
   "id": "62e60b5e",
   "metadata": {},
   "source": [
    "6. After running the following code, what does the variable bacon contain?\n",
    "bacon = 22\n",
    "bacon + 1\n",
    "\n",
    "\n",
    "\n",
    "Ans: bacon=23"
   ]
  },
  {
   "cell_type": "markdown",
   "id": "1e7aef5f",
   "metadata": {},
   "source": [
    "7. What should the values of the following two terms be?\n",
    "\"spam\" + \"spamspam\"\n",
    "\"spam\" * 3\n",
    "\n",
    "\n",
    "Ans: Both the above expressions will give the same result:\n",
    "    \n",
    "    spamspamspam"
   ]
  },
  {
   "cell_type": "markdown",
   "id": "595e8aea",
   "metadata": {},
   "source": [
    "8. Why is eggs a valid variable name while 100 is invalid?\n",
    "\n",
    "Ans: \n",
    "A variable name cannot start with an integer value. It can contain digits but must always start with a character.\n",
    "eggs is a series of characters that can be used as a variable name.\n",
    "100 is an integer value that cannot be used as a variable to store value. \n",
    "eggs100, e100, etc. can be used as a valid variable name.\n",
    "\n"
   ]
  },
  {
   "cell_type": "markdown",
   "id": "8cf13fab",
   "metadata": {},
   "source": [
    "9. What three functions can be used to get the integer, floating-point number, or string\n",
    "version of a value?\n",
    "\n",
    "Ans:\n",
    "str(), int(), float()\n"
   ]
  },
  {
   "cell_type": "markdown",
   "id": "91151adb",
   "metadata": {},
   "source": [
    "10. Why does this expression cause an error? How can you fix it?\n",
    "\"I have eaten \" + 99 +\"burritos\"\n",
    "\n",
    "Ans:\n",
    "The above expression gives an error as it is trying to concatenate strings with the integer 99.\n",
    "To fix the error we have to typecast 99 into a string as given below:\n",
    "    \n",
    "    \"I have eaten \" + str(99) +\"burritos\""
   ]
  },
  {
   "cell_type": "code",
   "execution_count": 13,
   "id": "d6c52da5",
   "metadata": {},
   "outputs": [
    {
     "data": {
      "text/plain": [
       "'I have eaten 99burritos'"
      ]
     },
     "execution_count": 13,
     "metadata": {},
     "output_type": "execute_result"
    }
   ],
   "source": [
    "\"I have eaten \" + str(99) +\"burritos\""
   ]
  },
  {
   "cell_type": "code",
   "execution_count": null,
   "id": "e727822c",
   "metadata": {},
   "outputs": [],
   "source": []
  }
 ],
 "metadata": {
  "kernelspec": {
   "display_name": "Python 3 (ipykernel)",
   "language": "python",
   "name": "python3"
  },
  "language_info": {
   "codemirror_mode": {
    "name": "ipython",
    "version": 3
   },
   "file_extension": ".py",
   "mimetype": "text/x-python",
   "name": "python",
   "nbconvert_exporter": "python",
   "pygments_lexer": "ipython3",
   "version": "3.9.7"
  }
 },
 "nbformat": 4,
 "nbformat_minor": 5
}
