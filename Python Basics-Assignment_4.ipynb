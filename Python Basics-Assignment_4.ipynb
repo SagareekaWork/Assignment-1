{
 "cells": [
  {
   "cell_type": "markdown",
   "id": "0104808a",
   "metadata": {},
   "source": [
    "1. What exactly is []?\n",
    "\n",
    "[] is an empty list, ie, a list without any elements."
   ]
  },
  {
   "cell_type": "markdown",
   "id": "c9cbd835",
   "metadata": {},
   "source": [
    "2. In a list of values stored in a variable called spam, how would you assign the value \"hello\" as the\n",
    "third value? (Assume [2, 4, 6, 8, 10] are in spam.)"
   ]
  },
  {
   "cell_type": "code",
   "execution_count": 1,
   "id": "fc216b8f",
   "metadata": {},
   "outputs": [
    {
     "data": {
      "text/plain": [
       "[2, 4, 'hello', 8, 10]"
      ]
     },
     "execution_count": 1,
     "metadata": {},
     "output_type": "execute_result"
    }
   ],
   "source": [
    "spam=[2,4,6,8,10]\n",
    "spam[2]=\"hello\"\n",
    "spam"
   ]
  },
  {
   "cell_type": "markdown",
   "id": "622c3634",
   "metadata": {},
   "source": [
    "Lets pretend the spam includes the list ['a','b','c','d'] for the next three queries.\n",
    " 3. What is the value of spam[int(int('3'*2)/11)]?"
   ]
  },
  {
   "cell_type": "code",
   "execution_count": 2,
   "id": "45088819",
   "metadata": {},
   "outputs": [
    {
     "data": {
      "text/plain": [
       "'d'"
      ]
     },
     "execution_count": 2,
     "metadata": {},
     "output_type": "execute_result"
    }
   ],
   "source": [
    "spam=['a','b','c','d']\n",
    "spam[int(int('3'*2)/11)]"
   ]
  },
  {
   "cell_type": "code",
   "execution_count": null,
   "id": "57793c25",
   "metadata": {},
   "outputs": [],
   "source": [
    "4. What is the value of spam[-1]?"
   ]
  },
  {
   "cell_type": "code",
   "execution_count": 3,
   "id": "4a6fea84",
   "metadata": {},
   "outputs": [
    {
     "data": {
      "text/plain": [
       "'d'"
      ]
     },
     "execution_count": 3,
     "metadata": {},
     "output_type": "execute_result"
    }
   ],
   "source": [
    "spam[-1]"
   ]
  },
  {
   "cell_type": "code",
   "execution_count": null,
   "id": "71f822e2",
   "metadata": {},
   "outputs": [],
   "source": [
    "5. What is the value of spam[:2]?"
   ]
  },
  {
   "cell_type": "code",
   "execution_count": 4,
   "id": "af0fa4a4",
   "metadata": {},
   "outputs": [
    {
     "data": {
      "text/plain": [
       "['a', 'b']"
      ]
     },
     "execution_count": 4,
     "metadata": {},
     "output_type": "execute_result"
    }
   ],
   "source": [
    "spam[:2]"
   ]
  },
  {
   "cell_type": "markdown",
   "id": "8a5f4ef5",
   "metadata": {},
   "source": [
    "Let's pretend bacon has the list [3.14,'cat',11, True] for the next 3 questions"
   ]
  },
  {
   "cell_type": "code",
   "execution_count": 5,
   "id": "21e070c4",
   "metadata": {},
   "outputs": [],
   "source": [
    "bacon=[3.14,'cat',11, True]"
   ]
  },
  {
   "cell_type": "code",
   "execution_count": 7,
   "id": "425a2817",
   "metadata": {},
   "outputs": [
    {
     "data": {
      "text/plain": [
       "1"
      ]
     },
     "execution_count": 7,
     "metadata": {},
     "output_type": "execute_result"
    }
   ],
   "source": [
    "bacon.index(\"cat\")"
   ]
  },
  {
   "cell_type": "markdown",
   "id": "617dfd8f",
   "metadata": {},
   "source": [
    "6. What is the value of bacon.index(\"cat\")?\n",
    "\n",
    "Ans. 1"
   ]
  },
  {
   "cell_type": "markdown",
   "id": "30a7bfd9",
   "metadata": {},
   "source": [
    "7. How does bacon.append(99) change the look of the list value in bacon?\n"
   ]
  },
  {
   "cell_type": "code",
   "execution_count": 8,
   "id": "8b0c8e4c",
   "metadata": {},
   "outputs": [],
   "source": [
    "bacon.append(99)"
   ]
  },
  {
   "cell_type": "code",
   "execution_count": 9,
   "id": "ca3cab36",
   "metadata": {},
   "outputs": [
    {
     "data": {
      "text/plain": [
       "[3.14, 'cat', 11, True, 99]"
      ]
     },
     "execution_count": 9,
     "metadata": {},
     "output_type": "execute_result"
    }
   ],
   "source": [
    "bacon                 #adds 99 to the list."
   ]
  },
  {
   "cell_type": "markdown",
   "id": "cfae6b11",
   "metadata": {},
   "source": [
    "8. How does bacon.remove(\"cat\") change the look of the list in bacon?\n"
   ]
  },
  {
   "cell_type": "code",
   "execution_count": 10,
   "id": "22828f06",
   "metadata": {},
   "outputs": [],
   "source": [
    "bacon.remove(\"cat\")"
   ]
  },
  {
   "cell_type": "code",
   "execution_count": 11,
   "id": "0a339269",
   "metadata": {},
   "outputs": [
    {
     "data": {
      "text/plain": [
       "[3.14, 11, True, 99]"
      ]
     },
     "execution_count": 11,
     "metadata": {},
     "output_type": "execute_result"
    }
   ],
   "source": [
    "bacon"
   ]
  },
  {
   "cell_type": "markdown",
   "id": "4a3ecb03",
   "metadata": {},
   "source": [
    "9. What are the list concatenation and list replication operators?\n",
    "\n",
    "Ans. The operator for list concatenation is '+', while the operator for replication is '*'."
   ]
  },
  {
   "cell_type": "markdown",
   "id": "ed113b19",
   "metadata": {},
   "source": [
    "10. What is difference between the list methods append() and insert()?\n",
    "\n",
    "Ans. The only difference between append() and insert() is that insert function allows us to add a specific element at a specified index of the list unlike append() where we can add the element only at end of the list"
   ]
  },
  {
   "cell_type": "markdown",
   "id": "417121d5",
   "metadata": {},
   "source": [
    "11. What are the two methods for removing items from a list?\n",
    "\n",
    "remove() :It helps to remove the very first given element matching from the list.\n",
    "pop()  :The pop() method removes an element from the list based on the index given."
   ]
  },
  {
   "cell_type": "markdown",
   "id": "9fc3540b",
   "metadata": {},
   "source": [
    "12. Describe how list values and string values are identical.\n",
    "\n",
    "Ans. Lists and strings are both sequences. Lists are sequence of items that can contain elements of different datatypes. String are a sequence of characters enclosed within quotes."
   ]
  },
  {
   "cell_type": "markdown",
   "id": "e958a702",
   "metadata": {},
   "source": [
    "13. What's the difference between tuples and lists?\n",
    "\n",
    "Ans. Lists are mutable, tuples are immutable.\n",
    "Lists are enclosed within third brackets [], tuples are enclosed within first brackets().\n",
    "Lists contain more memory, tuples consume less memory."
   ]
  },
  {
   "cell_type": "code",
   "execution_count": 19,
   "id": "04029518",
   "metadata": {},
   "outputs": [],
   "source": [
    "#14. How do you type a tuple value that only contains the integer 42?\n",
    "\n",
    "a=(42,)"
   ]
  },
  {
   "cell_type": "code",
   "execution_count": 20,
   "id": "77149c63",
   "metadata": {},
   "outputs": [
    {
     "data": {
      "text/plain": [
       "tuple"
      ]
     },
     "execution_count": 20,
     "metadata": {},
     "output_type": "execute_result"
    }
   ],
   "source": [
    "type(a)"
   ]
  },
  {
   "cell_type": "markdown",
   "id": "7e48f6ec",
   "metadata": {},
   "source": [
    "15. How do you get a list value's tuple form? How do you get a tuple value's list form?\n",
    "\n",
    "tuple()\n",
    "list()"
   ]
  },
  {
   "cell_type": "markdown",
   "id": "28ec058f",
   "metadata": {},
   "source": [
    "\n",
    "16. Variables that \"contain\" list values are not necessarily lists themselves. Instead, what do they contain?\n",
    "\n",
    "Ans. They contain reference to the list values"
   ]
  },
  {
   "cell_type": "markdown",
   "id": "4617dc72",
   "metadata": {},
   "source": [
    "17. How do you distinguish between copy.copy() and copy.deepcopy()?\n",
    "\n",
    "Ans.The copy.copy() function will do a shallow copy of a list, while the copy.deepcopy() function will do a deep copy of a list. That is, only copy.deepcopy() will duplicate any lists inside the list."
   ]
  },
  {
   "cell_type": "code",
   "execution_count": null,
   "id": "2da960e6",
   "metadata": {},
   "outputs": [],
   "source": []
  }
 ],
 "metadata": {
  "kernelspec": {
   "display_name": "Python 3 (ipykernel)",
   "language": "python",
   "name": "python3"
  },
  "language_info": {
   "codemirror_mode": {
    "name": "ipython",
    "version": 3
   },
   "file_extension": ".py",
   "mimetype": "text/x-python",
   "name": "python",
   "nbconvert_exporter": "python",
   "pygments_lexer": "ipython3",
   "version": "3.9.7"
  }
 },
 "nbformat": 4,
 "nbformat_minor": 5
}
